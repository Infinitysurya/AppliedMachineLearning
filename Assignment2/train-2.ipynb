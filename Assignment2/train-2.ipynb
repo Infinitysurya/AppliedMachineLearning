{
  "nbformat": 4,
  "nbformat_minor": 0,
  "metadata": {
    "colab": {
      "provenance": []
    },
    "kernelspec": {
      "name": "python3",
      "display_name": "Python 3"
    },
    "language_info": {
      "name": "python"
    }
  },
  "cells": [
    {
      "cell_type": "code",
      "source": [
        "# Install necessary libraries\n",
        "!pip install dvc scikit-learn pandas --quiet\n",
        "\n",
        "import os\n",
        "import pandas as pd\n",
        "import numpy as np\n",
        "from sklearn.feature_extraction.text import TfidfVectorizer\n",
        "from sklearn.linear_model import LogisticRegression\n",
        "from sklearn.metrics import accuracy_score, classification_report\n",
        "\n",
        "# Mount Google Drive\n",
        "from google.colab import drive\n",
        "drive.mount('/content/drive')\n",
        "\n",
        "# Define paths\n",
        "DATA_DIR = \"/content/drive/MyDrive/sms+spam+collection\"\n",
        "TRAIN_DATA = os.path.join(DATA_DIR, \"train.csv\")\n",
        "VAL_DATA = os.path.join(DATA_DIR, \"validation.csv\")\n",
        "TEST_DATA = os.path.join(DATA_DIR, \"test.csv\")\n",
        "\n",
        "# Pull latest tracked dataset versions\n",
        "%cd \"{DATA_DIR}\"\n",
        "!dvc pull train.csv.dvc validation.csv.dvc test.csv.dvc\n",
        "\n",
        "# Load datasets\n",
        "train_df = pd.read_csv(TRAIN_DATA)\n",
        "val_df = pd.read_csv(VAL_DATA)\n",
        "test_df = pd.read_csv(TEST_DATA)\n",
        "\n",
        "# Extract text and labels\n",
        "X_train, y_train = train_df['text'], train_df['label']\n",
        "X_val, y_val = val_df['text'], val_df['label']\n",
        "X_test, y_test = test_df['text'], test_df['label']\n",
        "\n",
        "# Convert text to TF-IDF features\n",
        "vectorizer = TfidfVectorizer(stop_words='english', max_features=5000)\n",
        "X_train_tfidf = vectorizer.fit_transform(X_train)\n",
        "X_val_tfidf = vectorizer.transform(X_val)\n",
        "X_test_tfidf = vectorizer.transform(X_test)\n",
        "\n",
        "# Train a simple Logistic Regression model\n",
        "model = LogisticRegression()\n",
        "model.fit(X_train_tfidf, y_train)\n",
        "\n",
        "# Validate the model\n",
        "val_preds = model.predict(X_val_tfidf)\n",
        "val_acc = accuracy_score(y_val, val_preds)\n",
        "print(f\"Validation Accuracy: {val_acc:.4f}\")\n",
        "print(\"\\nValidation Classification Report:\\n\", classification_report(y_val, val_preds))\n",
        "\n",
        "# Test the model\n",
        "test_preds = model.predict(X_test_tfidf)\n",
        "test_acc = accuracy_score(y_test, test_preds)\n",
        "print(f\"\\nTest Accuracy: {test_acc:.4f}\")\n",
        "print(\"\\nTest Classification Report:\\n\", classification_report(y_test, test_preds))\n"
      ],
      "metadata": {
        "colab": {
          "base_uri": "https://localhost:8080/"
        },
        "id": "CbMS7gYbyIZI",
        "outputId": "37d0288e-9fb0-4907-fd66-3355dd4d25bf"
      },
      "execution_count": 3,
      "outputs": [
        {
          "output_type": "stream",
          "name": "stdout",
          "text": [
            "Drive already mounted at /content/drive; to attempt to forcibly remount, call drive.mount(\"/content/drive\", force_remount=True).\n",
            "/content/drive/MyDrive/sms+spam+collection\n",
            "Collecting          |0.00 [00:00,    ?entry/s]\n",
            "Fetching\n",
            "!\u001b[A\n",
            "  0% |          |0/? [00:00<?,    ?files/s]\u001b[A\n",
            "Fetching\n",
            "Building workspace index          |3.00 [00:00,  419entry/s]\n",
            "Comparing indexes          |4.00 [00:00, 2.59kentry/s]\n",
            "Applying changes          |0.00 [00:00,     ?file/s]\n",
            "Everything is up to date.\n",
            "\u001b[0mValidation Accuracy: 0.9545\n",
            "\n",
            "Validation Classification Report:\n",
            "               precision    recall  f1-score   support\n",
            "\n",
            "           0       0.95      1.00      0.97       724\n",
            "           1       0.97      0.68      0.80       112\n",
            "\n",
            "    accuracy                           0.95       836\n",
            "   macro avg       0.96      0.84      0.89       836\n",
            "weighted avg       0.96      0.95      0.95       836\n",
            "\n",
            "\n",
            "Test Accuracy: 0.9689\n",
            "\n",
            "Test Classification Report:\n",
            "               precision    recall  f1-score   support\n",
            "\n",
            "           0       0.97      1.00      0.98       724\n",
            "           1       1.00      0.77      0.87       112\n",
            "\n",
            "    accuracy                           0.97       836\n",
            "   macro avg       0.98      0.88      0.93       836\n",
            "weighted avg       0.97      0.97      0.97       836\n",
            "\n"
          ]
        }
      ]
    }
  ]
}