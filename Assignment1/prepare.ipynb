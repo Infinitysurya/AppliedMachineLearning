{
 "cells": [
  {
   "cell_type": "code",
   "execution_count": null,
   "id": "8b4b7f4a-eedd-4095-b80a-3fbf858f67ef",
   "metadata": {},
   "outputs": [],
   "source": [
    "import pandas as pd\n",
    "from sklearn.model_selection import train_test_split\n",
    "\n",
    "def load_data(file_path):\n",
    "    \"\"\"\n",
    "    Loads the SMSSpamCollection dataset from a given file path.\n",
    "    The first word is either 'ham' or 'spam', and the rest is the message.\n",
    "    \"\"\"\n",
    "    df = pd.read_csv(file_path, sep='\\t', header=None, names=['label', 'message'])\n",
    "    return df\n",
    "\n",
    "def preprocess_data(df):\n",
    "    \"\"\"\n",
    "    Preprocesses the data if needed. Here, we ensure correct data types and strip spaces.\n",
    "    \"\"\"\n",
    "    df['label'] = df['label'].str.strip()\n",
    "    df['message'] = df['message'].str.strip()\n",
    "    return df\n",
    "\n",
    "def split_data(df, train_size=0.7, val_size=0.15, test_size=0.15, random_state=42):\n",
    "    \"\"\"\n",
    "    Splits the data into train, validation, and test sets.\n",
    "    \"\"\"\n",
    "    train, temp = train_test_split(df, train_size=train_size, random_state=random_state, stratify=df['label'])\n",
    "    val, test = train_test_split(temp, test_size=test_size/(val_size+test_size), random_state=random_state, stratify=temp['label'])\n",
    "    return train, val, test\n",
    "\n",
    "def save_splits(train, val, test, train_path=\"train.csv\", val_path=\"validation.csv\", test_path=\"test.csv\"):\n",
    "    \"\"\"\n",
    "    Saves the train, validation, and test sets to CSV files.\n",
    "    \"\"\"\n",
    "    train.to_csv(train_path, index=False)\n",
    "    val.to_csv(val_path, index=False)\n",
    "    test.to_csv(test_path, index=False)"
   ]
  }
 ],
 "metadata": {
  "kernelspec": {
   "display_name": "Python 3 (ipykernel)",
   "language": "python",
   "name": "python3"
  },
  "language_info": {
   "codemirror_mode": {
    "name": "ipython",
    "version": 3
   },
   "file_extension": ".py",
   "mimetype": "text/x-python",
   "name": "python",
   "nbconvert_exporter": "python",
   "pygments_lexer": "ipython3",
   "version": "3.11.7"
  }
 },
 "nbformat": 4,
 "nbformat_minor": 5
}
