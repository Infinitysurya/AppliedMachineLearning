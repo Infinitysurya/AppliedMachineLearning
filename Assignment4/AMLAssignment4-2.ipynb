{
 "cells": [
  {
   "cell_type": "code",
   "execution_count": 1,
   "id": "20cb7f6c-378b-42d0-acb6-6d0355b610e3",
   "metadata": {},
   "outputs": [],
   "source": [
    "score_code = '''\n",
    "import numpy as np\n",
    "from sklearn.base import BaseEstimator\n",
    "from typing import Tuple\n",
    "\n",
    "def score(text: str, model: BaseEstimator, threshold: float) -> Tuple[bool, float]:\n",
    "    if hasattr(model, \"predict_proba\"):\n",
    "        prob = model.predict_proba([text])[0][1]\n",
    "    elif hasattr(model, \"decision_function\"):\n",
    "        prob = model.decision_function([text])[0]\n",
    "        prob = 1 / (1 + np.exp(-prob))\n",
    "    else:\n",
    "        raise ValueError(\"Model must implement predict_proba or decision_function.\")\n",
    "    \n",
    "    prediction = prob >= threshold\n",
    "    return prediction, float(prob)\n",
    "'''\n",
    "\n",
    "with open(\"score.py\", \"w\") as f:\n",
    "    f.write(score_code.strip())\n"
   ]
  },
  {
   "cell_type": "code",
   "execution_count": 2,
   "id": "505f8b1a-ab22-46a1-b434-a5596aa962a8",
   "metadata": {},
   "outputs": [],
   "source": [
    "app_code = '''\n",
    "from flask import Flask, request, jsonify\n",
    "import joblib\n",
    "from score import score\n",
    "from sklearn.linear_model import LogisticRegression\n",
    "\n",
    "def create_app():\n",
    "    app = Flask(__name__)\n",
    "    model: LogisticRegression = joblib.load(\"best_model.pkl\")\n",
    "\n",
    "    @app.route(\"/score\", methods=[\"POST\"])\n",
    "    def score_endpoint():\n",
    "        data = request.json\n",
    "        text = data.get(\"text\", \"\")\n",
    "        threshold = float(data.get(\"threshold\", 0.5))\n",
    "        \n",
    "        prediction, propensity = score(text, model, threshold)\n",
    "        return jsonify({\"prediction\": int(prediction), \"propensity\": propensity})\n",
    "\n",
    "    return app\n",
    "\n",
    "if __name__ == \"__main__\":\n",
    "    app = create_app()\n",
    "    app.run(host=\"0.0.0.0\", port=5000)\n",
    "'''\n",
    "\n",
    "with open(\"app.py\", \"w\") as f:\n",
    "    f.write(app_code.strip())\n"
   ]
  },
  {
   "cell_type": "code",
   "execution_count": 3,
   "id": "b0a025fb-0a0a-40fd-9b99-147bd6982d2e",
   "metadata": {},
   "outputs": [],
   "source": [
    "test_code = '''\n",
    "import numpy as np\n",
    "from score import score\n",
    "\n",
    "def test_score():\n",
    "    \"\"\"Unit test for the score function.\"\"\"\n",
    "    from sklearn.linear_model import LogisticRegression\n",
    "\n",
    "    model = LogisticRegression()\n",
    "    model.classes_ = np.array([0, 1])\n",
    "    model.predict_proba = lambda x: np.array([[0.3, 0.7]])\n",
    "\n",
    "    text = \"This is a spam message!\"\n",
    "    threshold = 0.5\n",
    "\n",
    "    prediction, propensity = score(text, model, threshold)\n",
    "\n",
    "    assert isinstance(prediction, (bool, np.bool_)), \"Prediction should be a boolean.\"\n",
    "    assert isinstance(propensity, float), \"Propensity should be a float.\"\n",
    "    assert 0 <= propensity <= 1, \"Propensity score should be between 0 and 1.\"\n",
    "    assert score(text, model, 0)[0] == True, \"With threshold 0, prediction should be True.\"\n",
    "    assert score(text, model, 1)[0] == False, \"With threshold 1, prediction should be False.\"\n",
    "'''\n",
    "\n",
    "with open(\"test.py\", \"w\") as f:\n",
    "    f.write(test_code.strip())\n"
   ]
  },
  {
   "cell_type": "code",
   "execution_count": 4,
   "id": "aee6900a-25be-4330-a0db-270d3729f1ff",
   "metadata": {},
   "outputs": [],
   "source": [
    "docker_code = '''\n",
    "FROM python:3.10-slim\n",
    "\n",
    "WORKDIR /app\n",
    "\n",
    "COPY app.py score.py best_model.pkl requirements.txt ./\n",
    "\n",
    "RUN pip install --no-cache-dir -r requirements.txt\n",
    "\n",
    "CMD [\"python\", \"app.py\"]\n",
    "'''\n",
    "\n",
    "with open(\"Dockerfile\", \"w\") as f:\n",
    "    f.write(docker_code.strip())\n"
   ]
  },
  {
   "cell_type": "code",
   "execution_count": 5,
   "id": "4091c909-be42-4cd1-8fe6-af8c45f605b0",
   "metadata": {},
   "outputs": [],
   "source": [
    "reqs = '''\n",
    "flask\n",
    "scikit-learn\n",
    "joblib\n",
    "'''\n",
    "\n",
    "with open(\"requirements.txt\", \"w\") as f:\n",
    "    f.write(reqs.strip())\n"
   ]
  },
  {
   "cell_type": "code",
   "execution_count": 6,
   "id": "7f1310d9-736b-4021-accc-5601d58db5a0",
   "metadata": {},
   "outputs": [
    {
     "data": {
      "text/plain": [
       "['best_model.pkl']"
      ]
     },
     "execution_count": 6,
     "metadata": {},
     "output_type": "execute_result"
    }
   ],
   "source": [
    "from sklearn.linear_model import LogisticRegression\n",
    "from sklearn.feature_extraction.text import CountVectorizer\n",
    "from sklearn.pipeline import make_pipeline\n",
    "import joblib\n",
    "\n",
    "# Sample data\n",
    "X = [\"win money now\", \"click here\", \"hello friend\", \"let's meet\", \"free lottery\", \"how are you\"]\n",
    "y = [1, 1, 0, 0, 1, 0]  # 1 = spam, 0 = not spam\n",
    "\n",
    "# Build pipeline: vectorizer + model\n",
    "pipe = make_pipeline(CountVectorizer(), LogisticRegression())\n",
    "pipe.fit(X, y)\n",
    "\n",
    "# Save to disk\n",
    "joblib.dump(pipe, \"best_model.pkl\")\n"
   ]
  },
  {
   "cell_type": "code",
   "execution_count": 7,
   "id": "dd04a2e5-d83a-42c5-92f1-e168dddd2327",
   "metadata": {},
   "outputs": [],
   "source": [
    "import os\n",
    "import subprocess\n",
    "import time\n",
    "import requests\n",
    "\n",
    "def test_docker():\n",
    "    \"\"\"Integration test for the Docker container running the Flask app.\"\"\"\n",
    "    \n",
    "    # Step 1: Build the Docker image\n",
    "    build_cmd = \"docker build -t flask-score-app .\"\n",
    "    build_status = subprocess.run(build_cmd, shell=True)\n",
    "    assert build_status.returncode == 0, \"Docker image build failed.\"\n",
    "    \n",
    "    # Step 2: Run the Docker container\n",
    "    run_cmd = \"docker run -d -p 5000:5000 --name score_container flask-score-app\"\n",
    "    container_id = subprocess.check_output(run_cmd, shell=True).decode().strip()\n",
    "    \n",
    "    # Step 3: Wait for the container to be ready\n",
    "    time.sleep(5)\n",
    "    \n",
    "    # Step 4: Send request to the /score endpoint\n",
    "    url = \"http://127.0.0.1:5000/score\"\n",
    "    data = {\"text\": \"This is spam!\", \"threshold\": 0.5}\n",
    "    response = requests.post(url, json=data)\n",
    "    \n",
    "    # Step 5: Check response\n",
    "    assert response.status_code == 200, \"Expected 200 OK from Flask app.\"\n",
    "    json_response = response.json()\n",
    "    assert \"prediction\" in json_response and \"propensity\" in json_response, \"Response JSON is missing fields.\"\n",
    "    \n",
    "    print(\"Test passed ✅ Response:\", json_response)\n",
    "    \n",
    "    # Step 6: Stop and remove the container\n",
    "    subprocess.run(\"docker stop score_container\", shell=True)\n",
    "    subprocess.run(\"docker rm score_container\", shell=True)\n"
   ]
  },
  {
   "cell_type": "code",
   "execution_count": 8,
   "id": "00fa26dd-abe8-41b6-b836-f0f24e4468d1",
   "metadata": {},
   "outputs": [
    {
     "name": "stdout",
     "output_type": "stream",
     "text": [
      "Requirement already satisfied: pytest in /opt/anaconda3/lib/python3.11/site-packages (7.4.0)\n",
      "Requirement already satisfied: pytest-cov in /opt/anaconda3/lib/python3.11/site-packages (6.1.1)\n",
      "Requirement already satisfied: iniconfig in /opt/anaconda3/lib/python3.11/site-packages (from pytest) (1.1.1)\n",
      "Requirement already satisfied: packaging in /opt/anaconda3/lib/python3.11/site-packages (from pytest) (23.1)\n",
      "Requirement already satisfied: pluggy<2.0,>=0.12 in /opt/anaconda3/lib/python3.11/site-packages (from pytest) (1.0.0)\n",
      "Requirement already satisfied: coverage>=7.5 in /opt/anaconda3/lib/python3.11/site-packages (from coverage[toml]>=7.5->pytest-cov) (7.8.0)\n"
     ]
    }
   ],
   "source": [
    "!pip install pytest pytest-cov\n"
   ]
  },
  {
   "cell_type": "code",
   "execution_count": 9,
   "id": "8ff0a486-2909-4210-a01a-9e132316f5ee",
   "metadata": {},
   "outputs": [
    {
     "name": "stdout",
     "output_type": "stream",
     "text": [
      "\u001b[1m============================= test session starts ==============================\u001b[0m\n",
      "platform darwin -- Python 3.11.7, pytest-7.4.0, pluggy-1.0.0\n",
      "rootdir: /Users/suryaeada\n",
      "plugins: anyio-4.2.0, hydra-core-1.3.2, cov-6.1.1\n",
      "collected 1 item\n",
      "\n",
      "test.py \u001b[32m.\u001b[0m\u001b[32m                                                                [100%]\u001b[0m\n",
      "\n",
      "================================ tests coverage ================================\n",
      "_______________ coverage: platform darwin, python 3.11.7-final-0 _______________\n",
      "\n",
      "Name       Stmts   Miss  Cover\n",
      "------------------------------\n",
      "app.py        18     18     0%\n",
      "score.py      12      4    67%\n",
      "test.py       15      0   100%\n",
      "------------------------------\n",
      "TOTAL         45     22    51%\n",
      "\u001b[32m============================== \u001b[32m\u001b[1m1 passed\u001b[0m\u001b[32m in 0.59s\u001b[0m\u001b[32m ===============================\u001b[0m\n"
     ]
    }
   ],
   "source": [
    "!pytest test.py --cov=. --cov-report=term > coverage.txt\n",
    "!cat coverage.txt\n",
    "\n"
   ]
  },
  {
   "cell_type": "code",
   "execution_count": null,
   "id": "82ba6c97-c0fc-4d94-904d-0ae5a3060220",
   "metadata": {},
   "outputs": [],
   "source": []
  }
 ],
 "metadata": {
  "kernelspec": {
   "display_name": "Python 3 (ipykernel)",
   "language": "python",
   "name": "python3"
  },
  "language_info": {
   "codemirror_mode": {
    "name": "ipython",
    "version": 3
   },
   "file_extension": ".py",
   "mimetype": "text/x-python",
   "name": "python",
   "nbconvert_exporter": "python",
   "pygments_lexer": "ipython3",
   "version": "3.11.7"
  }
 },
 "nbformat": 4,
 "nbformat_minor": 5
}
