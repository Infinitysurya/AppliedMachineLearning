{
 "cells": [
  {
   "cell_type": "code",
   "execution_count": null,
   "id": "849060d5-8f30-409a-9933-78db16caeaec",
   "metadata": {},
   "outputs": [],
   "source": [
    "# test.py\n",
    "def test_score():\n",
    "    \"\"\"Unit test for the score function.\"\"\"\n",
    "    from sklearn.linear_model import LogisticRegression\n",
    "    import pytest\n",
    "    \n",
    "    model = LogisticRegression()\n",
    "    model.classes_ = np.array([0, 1])  # Mocking the trained model\n",
    "    model.predict_proba = lambda x: np.array([[0.3, 0.7]])  # Mocking probability output\n",
    "    \n",
    "    text = \"This is a spam message!\"\n",
    "    threshold = 0.5\n",
    "    \n",
    "    prediction, propensity = score(text, model, threshold)\n",
    "    \n",
    "    assert isinstance(prediction, bool), \"Prediction should be a boolean.\"\n",
    "    assert isinstance(propensity, float), \"Propensity should be a float.\"\n",
    "    assert 0 <= propensity <= 1, \"Propensity score should be between 0 and 1.\"\n",
    "    assert score(text, model, 0)[0] == True, \"With threshold 0, prediction should always be 1.\"\n",
    "    assert score(text, model, 1)[0] == False, \"With threshold 1, prediction should always be 0.\"\n"
   ]
  }
 ],
 "metadata": {
  "kernelspec": {
   "display_name": "Python 3 (ipykernel)",
   "language": "python",
   "name": "python3"
  },
  "language_info": {
   "codemirror_mode": {
    "name": "ipython",
    "version": 3
   },
   "file_extension": ".py",
   "mimetype": "text/x-python",
   "name": "python",
   "nbconvert_exporter": "python",
   "pygments_lexer": "ipython3",
   "version": "3.11.7"
  }
 },
 "nbformat": 4,
 "nbformat_minor": 5
}
