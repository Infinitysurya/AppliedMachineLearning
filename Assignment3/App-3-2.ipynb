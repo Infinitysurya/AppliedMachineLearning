{
 "cells": [
  {
   "cell_type": "code",
   "execution_count": null,
   "id": "cedb6e8b-0e6a-4a32-870d-d73ddc5bfb87",
   "metadata": {},
   "outputs": [],
   "source": [
    "# Flask app\n",
    "def create_app():\n",
    "    from flask import Flask, request, jsonify\n",
    "    \n",
    "    app = Flask(__name__)\n",
    "    \n",
    "    model: LogisticRegression = joblib.load(\"best_model.pkl\")  # Load the trained model\n",
    "    \n",
    "    @app.route(\"/score\", methods=[\"POST\"])\n",
    "    def score_endpoint():\n",
    "        data = request.json\n",
    "        text = data.get(\"text\", \"\")\n",
    "        threshold = float(data.get(\"threshold\", 0.5))\n",
    "        \n",
    "        prediction, propensity = score(text, model, threshold)\n",
    "        return jsonify({\"prediction\": int(prediction), \"propensity\": propensity})\n",
    "    \n",
    "    return app\n",
    "\n",
    "# Integration test for Flask app\n",
    "def test_flask():\n",
    "    import os\n",
    "    import time\n",
    "    import requests\n",
    "    import subprocess\n",
    "    \n",
    "    # Start the Flask app\n",
    "    process = subprocess.Popen([\"python\", \"app.py\"], stdout=subprocess.PIPE, stderr=subprocess.PIPE)\n",
    "    time.sleep(2)  # Wait for server to start\n",
    "    \n",
    "    url = \"http://127.0.0.1:5000/score\"\n",
    "    data = {\"text\": \"This is spam!\", \"threshold\": 0.5}\n",
    "    response = requests.post(url, json=data)\n",
    "    \n",
    "    assert response.status_code == 200, \"Flask endpoint should return 200.\"\n",
    "    json_response = response.json()\n",
    "    assert \"prediction\" in json_response and \"propensity\" in json_response, \"Response should contain prediction and propensity.\"\n",
    "    \n",
    "    # Stop the Flask app\n",
    "    process.terminate()\n",
    "    process.wait()\n",
    "\n",
    "# Generate coverage report\n",
    "if __name__ == \"__main__\":\n",
    "    import os\n",
    "    os.system(\"pytest --cov=score --cov=app --cov-report=term-missing > coverage.txt\")\n"
   ]
  }
 ],
 "metadata": {
  "kernelspec": {
   "display_name": "Python 3 (ipykernel)",
   "language": "python",
   "name": "python3"
  },
  "language_info": {
   "codemirror_mode": {
    "name": "ipython",
    "version": 3
   },
   "file_extension": ".py",
   "mimetype": "text/x-python",
   "name": "python",
   "nbconvert_exporter": "python",
   "pygments_lexer": "ipython3",
   "version": "3.11.7"
  }
 },
 "nbformat": 4,
 "nbformat_minor": 5
}
