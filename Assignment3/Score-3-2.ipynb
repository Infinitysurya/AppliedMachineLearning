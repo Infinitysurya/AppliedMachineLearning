{
 "cells": [
  {
   "cell_type": "code",
   "execution_count": null,
   "id": "746a3f31-bfaf-4efe-827d-33daec4dd150",
   "metadata": {},
   "outputs": [],
   "source": [
    "import numpy as np\n",
    "from sklearn.base import BaseEstimator\n",
    "from typing import Tuple\n",
    "\n",
    "def score(text: str, model: BaseEstimator, threshold: float) -> Tuple[bool, float]:\n",
    "    \"\"\"\n",
    "    Scores the input text using the provided trained sklearn model.\n",
    "\n",
    "    Parameters:\n",
    "    - text (str): The input text to score.\n",
    "    - model (sklearn.estimator): A trained sklearn model with predict_proba or decision_function.\n",
    "    - threshold (float): Threshold to convert probability into binary prediction.\n",
    "\n",
    "    Returns:\n",
    "    - Tuple[bool, float]: (prediction as bool, propensity score as float)\n",
    "    \"\"\"\n",
    "    # Assume the model has a vectorizer/pipeline to transform text already\n",
    "    try:\n",
    "        # Predict probabilities (binary classification)\n",
    "        if hasattr(model, \"predict_proba\"):\n",
    "            prob = model.predict_proba([text])[0][1]  # probability of class 1\n",
    "        elif hasattr(model, \"decision_function\"):\n",
    "            # For models that don't have predict_proba\n",
    "            prob = model.decision_function([text])[0]\n",
    "            # Convert raw scores to probability-like using sigmoid\n",
    "            prob = 1 / (1 + np.exp(-prob))\n",
    "        else:\n",
    "            raise ValueError(\"Model must implement predict_proba or decision_function.\")\n",
    "        \n",
    "        prediction = prob >= threshold\n",
    "        return prediction, float(prob)\n",
    "    \n",
    "    except Exception as e:\n",
    "        print(f\"Error scoring text: {e}\")\n",
    "        return False, 0.0\n"
   ]
  }
 ],
 "metadata": {
  "kernelspec": {
   "display_name": "Python 3 (ipykernel)",
   "language": "python",
   "name": "python3"
  },
  "language_info": {
   "codemirror_mode": {
    "name": "ipython",
    "version": 3
   },
   "file_extension": ".py",
   "mimetype": "text/x-python",
   "name": "python",
   "nbconvert_exporter": "python",
   "pygments_lexer": "ipython3",
   "version": "3.11.7"
  }
 },
 "nbformat": 4,
 "nbformat_minor": 5
}
